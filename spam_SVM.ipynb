{
  "cells": [
    {
      "cell_type": "code",
      "execution_count": null,
      "metadata": {
        "scrolled": true,
        "id": "JcsXf729qdu1",
        "outputId": "a53d83f6-7b2f-4627-90f8-aa35b56ccac0"
      },
      "outputs": [
        {
          "data": {
            "text/html": [
              "<div>\n",
              "<style scoped>\n",
              "    .dataframe tbody tr th:only-of-type {\n",
              "        vertical-align: middle;\n",
              "    }\n",
              "\n",
              "    .dataframe tbody tr th {\n",
              "        vertical-align: top;\n",
              "    }\n",
              "\n",
              "    .dataframe thead th {\n",
              "        text-align: right;\n",
              "    }\n",
              "</style>\n",
              "<table border=\"1\" class=\"dataframe\">\n",
              "  <thead>\n",
              "    <tr style=\"text-align: right;\">\n",
              "      <th></th>\n",
              "      <th>Email No.</th>\n",
              "      <th>the</th>\n",
              "      <th>to</th>\n",
              "      <th>ect</th>\n",
              "      <th>and</th>\n",
              "      <th>for</th>\n",
              "      <th>of</th>\n",
              "      <th>a</th>\n",
              "      <th>you</th>\n",
              "      <th>hou</th>\n",
              "      <th>...</th>\n",
              "      <th>connevey</th>\n",
              "      <th>jay</th>\n",
              "      <th>valued</th>\n",
              "      <th>lay</th>\n",
              "      <th>infrastructure</th>\n",
              "      <th>military</th>\n",
              "      <th>allowing</th>\n",
              "      <th>ff</th>\n",
              "      <th>dry</th>\n",
              "      <th>Prediction</th>\n",
              "    </tr>\n",
              "  </thead>\n",
              "  <tbody>\n",
              "    <tr>\n",
              "      <th>0</th>\n",
              "      <td>Email 1</td>\n",
              "      <td>0</td>\n",
              "      <td>0</td>\n",
              "      <td>1</td>\n",
              "      <td>0</td>\n",
              "      <td>0</td>\n",
              "      <td>0</td>\n",
              "      <td>2</td>\n",
              "      <td>0</td>\n",
              "      <td>0</td>\n",
              "      <td>...</td>\n",
              "      <td>0</td>\n",
              "      <td>0</td>\n",
              "      <td>0</td>\n",
              "      <td>0</td>\n",
              "      <td>0</td>\n",
              "      <td>0</td>\n",
              "      <td>0</td>\n",
              "      <td>0</td>\n",
              "      <td>0</td>\n",
              "      <td>0</td>\n",
              "    </tr>\n",
              "    <tr>\n",
              "      <th>1</th>\n",
              "      <td>Email 2</td>\n",
              "      <td>8</td>\n",
              "      <td>13</td>\n",
              "      <td>24</td>\n",
              "      <td>6</td>\n",
              "      <td>6</td>\n",
              "      <td>2</td>\n",
              "      <td>102</td>\n",
              "      <td>1</td>\n",
              "      <td>27</td>\n",
              "      <td>...</td>\n",
              "      <td>0</td>\n",
              "      <td>0</td>\n",
              "      <td>0</td>\n",
              "      <td>0</td>\n",
              "      <td>0</td>\n",
              "      <td>0</td>\n",
              "      <td>0</td>\n",
              "      <td>1</td>\n",
              "      <td>0</td>\n",
              "      <td>0</td>\n",
              "    </tr>\n",
              "  </tbody>\n",
              "</table>\n",
              "<p>2 rows × 3002 columns</p>\n",
              "</div>"
            ],
            "text/plain": [
              "  Email No.  the  to  ect  and  for  of    a  you  hou  ...  connevey  jay  \\\n",
              "0   Email 1    0   0    1    0    0   0    2    0    0  ...         0    0   \n",
              "1   Email 2    8  13   24    6    6   2  102    1   27  ...         0    0   \n",
              "\n",
              "   valued  lay  infrastructure  military  allowing  ff  dry  Prediction  \n",
              "0       0    0               0         0         0   0    0           0  \n",
              "1       0    0               0         0         0   1    0           0  \n",
              "\n",
              "[2 rows x 3002 columns]"
            ]
          },
          "execution_count": 103,
          "metadata": {},
          "output_type": "execute_result"
        }
      ],
      "source": [
        "from sklearn.model_selection import train_test_split\n",
        "from sklearn.metrics import confusion_matrix , classification_report\n",
        "\n",
        "import numpy as np\n",
        "#from sklearn.impute import SimpleImputer\n",
        "#imputer = SimpleImputer(missing_values=np.nan, strategy='mean')\n",
        "#from sklearn.preprocessing import OneHotEncoder\n",
        "#from sklearn.pipeline import Pipeline\n",
        "\n",
        "from sklearn.preprocessing import StandardScaler\n",
        "\n",
        "import matplotlib\n",
        "import matplotlib.pyplot as plt\n",
        "import pandas as pd\n",
        "        \n",
        "df = pd.read_csv(\"/Users/ruchibhavsar98/Desktop/emails.csv\")\n",
        "df.head(2)"
      ]
    },
    {
      "cell_type": "code",
      "execution_count": null,
      "metadata": {
        "id": "H6rNaDDvqdu7",
        "outputId": "9a32c7ec-8d99-4cc8-da5c-b5db702db677"
      },
      "outputs": [
        {
          "name": "stdout",
          "output_type": "stream",
          "text": [
            "4137\n",
            "4137\n",
            "1035\n",
            "1035\n"
          ]
        }
      ],
      "source": [
        "#Split data into x and y\n",
        "x = df.iloc[:,1:3001].values \n",
        "y = df.iloc[:,-1].values\n",
        "\n",
        "x_train, x_test, y_train, y_test = train_test_split(x, y,test_size=0.2, random_state=42)\n",
        "print(len(x_train))\n",
        "print(len(y_train))\n",
        "print(len(x_test))\n",
        "print(len(y_test))"
      ]
    },
    {
      "cell_type": "code",
      "execution_count": null,
      "metadata": {
        "scrolled": true,
        "id": "FuxlGNOBqdu8",
        "outputId": "7678b590-d399-4bdf-8c06-9849380ed216"
      },
      "outputs": [
        {
          "name": "stdout",
          "output_type": "stream",
          "text": [
            "Accuracy = 0.9623188405797102\n",
            "Precision = 0.9240924092409241\n",
            "Recall = 0.9459459459459459\n"
          ]
        },
        {
          "name": "stderr",
          "output_type": "stream",
          "text": [
            "/Users/ruchibhavsar98/opt/anaconda3/lib/python3.8/site-packages/sklearn/svm/_base.py:976: ConvergenceWarning: Liblinear failed to converge, increase the number of iterations.\n",
            "  warnings.warn(\"Liblinear failed to converge, increase \"\n"
          ]
        }
      ],
      "source": [
        "from sklearn.svm import LinearSVC\n",
        "from sklearn.metrics import precision_score, recall_score, accuracy_score\n",
        "from sklearn.metrics import roc_curve, roc_auc_score\n",
        "\n",
        "# Training\n",
        "svm_lin = LinearSVC(C=1, loss=\"hinge\", random_state=42)\n",
        "svm_lin.fit(x_train, y_train)\n",
        "y_pred_1 = svm_lin.predict(x_test)\n",
        "\n",
        "# Testing\n",
        "def get_scores(y_test, y_pred):\n",
        "    return [accuracy_score(y_test, y_pred), precision_score(y_test, y_pred), recall_score(y_test, y_pred)]\n",
        "    \n",
        "def print_scores(scores):\n",
        "    print(f\"Accuracy = {scores[0]}\")\n",
        "    print(f\"Precision = {scores[1]}\")\n",
        "    print(f\"Recall = {scores[2]}\")\n",
        "\n",
        "scores_1 = get_scores(y_test, y_pred_1)\n",
        "print_scores(scores_1)"
      ]
    },
    {
      "cell_type": "code",
      "execution_count": null,
      "metadata": {
        "scrolled": true,
        "id": "MZW1ySwRqdu9",
        "outputId": "214bf525-e412-4608-e586-9379d46502e0"
      },
      "outputs": [
        {
          "name": "stderr",
          "output_type": "stream",
          "text": [
            "/Users/ruchibhavsar98/opt/anaconda3/lib/python3.8/site-packages/sklearn/svm/_base.py:976: ConvergenceWarning: Liblinear failed to converge, increase the number of iterations.\n",
            "  warnings.warn(\"Liblinear failed to converge, increase \"\n",
            "/Users/ruchibhavsar98/opt/anaconda3/lib/python3.8/site-packages/sklearn/svm/_base.py:976: ConvergenceWarning: Liblinear failed to converge, increase the number of iterations.\n",
            "  warnings.warn(\"Liblinear failed to converge, increase \"\n",
            "/Users/ruchibhavsar98/opt/anaconda3/lib/python3.8/site-packages/sklearn/svm/_base.py:976: ConvergenceWarning: Liblinear failed to converge, increase the number of iterations.\n",
            "  warnings.warn(\"Liblinear failed to converge, increase \"\n",
            "/Users/ruchibhavsar98/opt/anaconda3/lib/python3.8/site-packages/sklearn/svm/_base.py:976: ConvergenceWarning: Liblinear failed to converge, increase the number of iterations.\n",
            "  warnings.warn(\"Liblinear failed to converge, increase \"\n"
          ]
        },
        {
          "name": "stdout",
          "output_type": "stream",
          "text": [
            "[0.94806763 0.95048309 0.94558646 0.96009674 0.96614268]\n"
          ]
        },
        {
          "name": "stderr",
          "output_type": "stream",
          "text": [
            "/Users/ruchibhavsar98/opt/anaconda3/lib/python3.8/site-packages/sklearn/svm/_base.py:976: ConvergenceWarning: Liblinear failed to converge, increase the number of iterations.\n",
            "  warnings.warn(\"Liblinear failed to converge, increase \"\n"
          ]
        }
      ],
      "source": [
        "from sklearn.model_selection import KFold\n",
        "from sklearn.model_selection import cross_val_score\n",
        "\n",
        "folds = KFold(n_splits = 5, shuffle= True, random_state = 4)\n",
        "results = cross_val_score(svm_lin, x_train, y_train, cv=folds, scoring='accuracy')\n",
        "print(results)"
      ]
    },
    {
      "cell_type": "code",
      "execution_count": null,
      "metadata": {
        "scrolled": true,
        "id": "hXPZTjZiqdu9",
        "outputId": "8bfc4bff-b226-4d7a-9d74-2b9289a56450"
      },
      "outputs": [
        {
          "name": "stderr",
          "output_type": "stream",
          "text": [
            "/Users/ruchibhavsar98/opt/anaconda3/lib/python3.8/site-packages/sklearn/svm/_base.py:976: ConvergenceWarning: Liblinear failed to converge, increase the number of iterations.\n",
            "  warnings.warn(\"Liblinear failed to converge, increase \"\n"
          ]
        },
        {
          "name": "stdout",
          "output_type": "stream",
          "text": [
            "Linear SVC with C=1\n",
            "--\n",
            "Accuracy = 0.9623188405797102\n",
            "Precision = 0.9240924092409241\n",
            "Recall = 0.9459459459459459\n",
            "\n",
            "Linear SVC with C=0.1\n",
            "--\n",
            "Accuracy = 0.966183574879227\n",
            "Precision = 0.9250814332247557\n",
            "Recall = 0.9594594594594594\n",
            "\n",
            "Linear SVC with C=100\n",
            "--\n",
            "Accuracy = 0.9584541062801932\n",
            "Precision = 0.9174917491749175\n",
            "Recall = 0.9391891891891891\n"
          ]
        },
        {
          "name": "stderr",
          "output_type": "stream",
          "text": [
            "/Users/ruchibhavsar98/opt/anaconda3/lib/python3.8/site-packages/sklearn/svm/_base.py:976: ConvergenceWarning: Liblinear failed to converge, increase the number of iterations.\n",
            "  warnings.warn(\"Liblinear failed to converge, increase \"\n"
          ]
        }
      ],
      "source": [
        "svm_lin_2 = LinearSVC(C=0.1, loss=\"hinge\", random_state=42)\n",
        "svm_lin_3 = LinearSVC(C=100, loss=\"hinge\", random_state=42)\n",
        "\n",
        "svm_lin_2.fit(x_train, y_train)\n",
        "svm_lin_3.fit(x_train, y_train)\n",
        "\n",
        "y_pred_2 = svm_lin_2.predict(x_test)\n",
        "y_pred_3 = svm_lin_3.predict(x_test)\n",
        "\n",
        "print(f\"Linear SVC with C={svm_lin.C}\\n--\")\n",
        "scores_1 = get_scores(y_test, y_pred_1)\n",
        "print_scores(scores_1)\n",
        "\n",
        "print(f\"\\nLinear SVC with C={svm_lin_2.C}\\n--\")\n",
        "scores_2 = get_scores(y_test, y_pred_2)\n",
        "print_scores(scores_2)\n",
        "\n",
        "print(f\"\\nLinear SVC with C={svm_lin_3.C}\\n--\")\n",
        "scores_3 = get_scores(y_test, y_pred_3)\n",
        "print_scores(scores_3)"
      ]
    },
    {
      "cell_type": "code",
      "execution_count": null,
      "metadata": {
        "id": "5Fmp7EpQqdu-",
        "outputId": "3f955158-fbc1-401f-f3ea-778e17cedb0b"
      },
      "outputs": [
        {
          "name": "stdout",
          "output_type": "stream",
          "text": [
            "Accuracy = 0.9120772946859903\n",
            "Precision = 0.89272030651341\n",
            "Recall = 0.7871621621621622\n"
          ]
        }
      ],
      "source": [
        "from sklearn.svm import SVC\n",
        "from sklearn.model_selection import GridSearchCV\n",
        "\n",
        "svm_rbf = SVC(kernel='rbf', C=1, gamma='auto', random_state=42)\n",
        "svm_rbf.fit(x_train, y_train)\n",
        "\n",
        "y_pred_rbf = svm_rbf.predict(x_test)\n",
        "scores_rbf = get_scores(y_test, y_pred_rbf)\n",
        "print_scores(scores_rbf)"
      ]
    },
    {
      "cell_type": "code",
      "execution_count": null,
      "metadata": {
        "scrolled": true,
        "id": "D_VdG2Ecqdu_",
        "outputId": "befe97bc-32e6-4418-dbdb-16c2e7e15426"
      },
      "outputs": [
        {
          "name": "stdout",
          "output_type": "stream",
          "text": [
            "[0.90217391 0.89371981 0.88270859 0.90084643 0.89842805]\n"
          ]
        }
      ],
      "source": [
        "folds = KFold(n_splits = 5, shuffle= True, random_state = 4)\n",
        "results = cross_val_score(svm_rbf, x_train, y_train, cv=folds, scoring='accuracy')\n",
        "print(results)"
      ]
    },
    {
      "cell_type": "code",
      "execution_count": null,
      "metadata": {
        "id": "94vieTDMqdvA",
        "outputId": "b5c237d4-7f65-4f08-9b4f-8cbe73bc92ff"
      },
      "outputs": [
        {
          "name": "stdout",
          "output_type": "stream",
          "text": [
            "Mean Score, Hyperparameters\n",
            "0.7249218699799637, {'C': 0.1, 'gamma': 0.01}\n",
            "0.7125936830053334, {'C': 0.1, 'gamma': 0.1}\n",
            "0.7123521371116135, {'C': 0.1, 'gamma': 1}\n",
            "0.7548940060401077, {'C': 1, 'gamma': 0.01}\n",
            "0.7205708310697532, {'C': 1, 'gamma': 0.1}\n",
            "0.7188791335891909, {'C': 1, 'gamma': 1}\n",
            "0.7722969933815842, {'C': 10, 'gamma': 0.01}\n",
            "0.7222634047748395, {'C': 10, 'gamma': 0.1}\n",
            "0.7188791335891909, {'C': 10, 'gamma': 1}\n",
            "\n",
            "Best hyperparameters:\n",
            "{'C': 10, 'gamma': 0.01}\n"
          ]
        }
      ],
      "source": [
        "def svc_param_selection(x, y, nfolds):\n",
        "    param_grid = {'C': [0.1, 1, 10], 'gamma' : [0.01, 0.1, 1]}\n",
        "    grid_search = GridSearchCV(SVC(kernel='rbf'), param_grid, cv=nfolds)\n",
        "    grid_search.fit(x, y)\n",
        "    return grid_search\n",
        "\n",
        "grid_search = svc_param_selection(x_train, y_train, 5)\n",
        "cvres = grid_search.cv_results_\n",
        "\n",
        "print(\"Mean Score, Hyperparameters\")\n",
        "for mean_score, params in zip(cvres[\"mean_test_score\"], cvres[\"params\"]):\n",
        "    print(f\"{mean_score}, {params}\")\n",
        "    \n",
        "print(\"\\nBest hyperparameters:\")\n",
        "print(grid_search.best_params_)"
      ]
    },
    {
      "cell_type": "code",
      "execution_count": null,
      "metadata": {
        "id": "9HDu0is0qdvA",
        "outputId": "19f0d264-8a7c-4383-8733-717e7a732283"
      },
      "outputs": [
        {
          "data": {
            "image/png": "[encoded data removed]",
            "text/plain": [
              "<Figure size 720x504 with 1 Axes>"
            ]
          },
          "metadata": {
            "needs_background": "light"
          },
          "output_type": "display_data"
        }
      ],
      "source": [
        "barWidth = 0.2\n",
        "\n",
        "accuracies = [scores_1[0], scores_rbf[0]]\n",
        "precisions = [scores_1[1], scores_rbf[1]]\n",
        "recalls = [scores_1[2], scores_rbf[2]]\n",
        "\n",
        "r1 = np.arange(len(accuracies))\n",
        "r2 = [x + barWidth for x in r1]\n",
        "r3 = [x + barWidth for x in r2]\n",
        " \n",
        "plt.figure(figsize=(10,7))\n",
        "\n",
        "#Plot\n",
        "plt.bar(r1, accuracies, color='#7f6d5f', width=barWidth, edgecolor='white', label='Accuracy')\n",
        "plt.bar(r2, precisions, color='#557f2d', width=barWidth, edgecolor='white', label='Precision')\n",
        "plt.bar(r3, recalls, color='#2d7f5e', width=barWidth, edgecolor='white', label='Recall')\n",
        " \n",
        "\n",
        "plt.title('Linear SVM vs Gaussian RBF SVM', fontsize=16)\n",
        "plt.xlabel('Model', fontsize=14)\n",
        "plt.ylabel('Score', fontsize=14)\n",
        "\n",
        "plt.yticks(fontsize=12)\n",
        "plt.ylim([0.1,1.0])\n",
        " \n",
        "\n",
        "plt.legend(fontsize=14)\n",
        "plt.show()"
      ]
    },
    {
      "cell_type": "code",
      "execution_count": null,
      "metadata": {
        "id": "59BiXbCnqdvB",
        "outputId": "de0bee09-41fc-4029-d0f5-b4ea868fd3fd"
      },
      "outputs": [
        {
          "data": {
            "image/png": "[encoded data removed]",
            "text/plain": [
              "<Figure size 1296x432 with 2 Axes>"
            ]
          },
          "metadata": {
            "needs_background": "light"
          },
          "output_type": "display_data"
        }
      ],
      "source": [
        "def plot_roc_curve(model, x_test, y_test, title):\n",
        "    decision_function = model.decision_function(x_test)\n",
        "    fpr, tpr, thresholds = roc_curve(y_true=y_test,\n",
        "                                     y_score=decision_function,\n",
        "                                     pos_label=1)\n",
        "\n",
        "    auc = roc_auc_score(y_true=y_test, y_score=decision_function)\n",
        "    \n",
        "    decision_function_rbf = svm_clf_rbf.decision_function(x_test)\n",
        "    fpr_rbf, tpr_rbf, thresholds_rbf = roc_curve(y_true=y_test,\n",
        "                                 y_score=decision_function_rbf,\n",
        "                                 pos_label=1)\n",
        "\n",
        "    auc_rbf = roc_auc_score(y_true=y_test, y_score=decision_function)\n",
        "    plt.plot(fpr, tpr, linewidth=3, label=None)\n",
        "    plt.plot([0, 1], [0, 1], 'k--')\n",
        "    plt.axis([0, 1, 0, 1])\n",
        "    plt.xlabel('False Positive Rate', fontsize=16)\n",
        "    plt.ylabel('True Positive Rate', fontsize=16)\n",
        "    plt.text(0.5, 0.5, \n",
        "             'AUC: {:.4f}'.format(auc), \n",
        "             bbox=dict(facecolor='white'), \n",
        "             horizontalalignment='center', \n",
        "             fontsize=14)\n",
        "    plt.title(title, fontsize=18)\n",
        "\n",
        "\n",
        "plt.figure(figsize=(18, 6))\n",
        "plt.subplot(121)\n",
        "plot_roc_curve(svm_clf_1, x_test, y_test, \"ROC Curve - Linear SVM\")\n",
        "plt.subplot(122)\n",
        "plot_roc_curve(svm_clf_rbf, x_test, y_test, \"ROC Curve - Gaussian RBF SVM\")\n",
        "plt.show()\n"
      ]
    },
    {
      "cell_type": "code",
      "execution_count": null,
      "metadata": {
        "id": "3f61ex36qdvC"
      },
      "outputs": [],
      "source": [
        ""
      ]
    },
    {
      "cell_type": "code",
      "execution_count": null,
      "metadata": {
        "id": "RCoK7MgDqdvC"
      },
      "outputs": [],
      "source": [
        ""
      ]
    }
  ],
  "metadata": {
    "kernelspec": {
      "display_name": "Python 3",
      "language": "python",
      "name": "python3"
    },
    "language_info": {
      "codemirror_mode": {
        "name": "ipython",
        "version": 3
      },
      "file_extension": ".py",
      "mimetype": "text/x-python",
      "name": "python",
      "nbconvert_exporter": "python",
      "pygments_lexer": "ipython3",
      "version": "3.8.3"
    },
    "colab": {
      "name": "spam_SVM.ipynb",
      "provenance": []
    }
  },
  "nbformat": 4,
  "nbformat_minor": 0
}